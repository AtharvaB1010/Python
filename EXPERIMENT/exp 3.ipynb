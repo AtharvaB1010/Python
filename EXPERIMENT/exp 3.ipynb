{
  "cells": [
    {
      "cell_type": "markdown",
      "id": "af5eead2-1738-4608-aac1-161b3939e915",
      "metadata": {},
      "source": [
        "#### Atharva 08"
      ]
    },
    {
      "cell_type": "code",
      "execution_count": 4,
      "id": "04d535a7-595c-4025-8eb7-b963c7cd29ca",
      "metadata": {
        "trusted": true
      },
      "outputs": [
        {
          "name": "stdout",
          "output_type": "stream",
          "text": [
            "No. of Lines: 4\n",
            "No. of Words: 21\n",
            "No. of Characters: 123\n"
          ]
        }
      ],
      "source": [
        "if __name__ == '__main__':\n",
        "    with open('./file.txt', 'r') as file:\n",
        "        lines = file.readlines()\n",
        "        numberOfLines = len(lines)\n",
        "        numberOfWords = sum(len(line.split()) for line in lines)\n",
        "        \n",
        "        # Count the number of characters\n",
        "        numberOfCharacters = sum(len(line) for line in lines)\n",
        "        \n",
        "    print(f\"No. of Lines: {numberOfLines}\")\n",
        "    print(f\"No. of Words: {numberOfWords}\")\n",
        "    print(f\"No. of Characters: {numberOfCharacters}\")\n"
      ]
    }
  ],
  "metadata": {
    "kernelspec": {
      "display_name": "Python (Pyodide)",
      "language": "python",
      "name": "python"
    },
    "language_info": {
      "codemirror_mode": {
        "name": "python",
        "version": 3
      },
      "file_extension": ".py",
      "mimetype": "text/x-python",
      "name": "python",
      "nbconvert_exporter": "python",
      "pygments_lexer": "ipython3",
      "version": "3.8"
    }
  },
  "nbformat": 4,
  "nbformat_minor": 5
}
